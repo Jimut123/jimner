{
  "nbformat": 4,
  "nbformat_minor": 0,
  "metadata": {
    "colab": {
      "name": "jimner.ipynb",
      "version": "0.3.2",
      "provenance": []
    },
    "kernelspec": {
      "name": "python3",
      "display_name": "Python 3"
    }
  },
  "cells": [
    {
      "cell_type": "code",
      "metadata": {
        "id": "rBtZq-U83rnd",
        "colab_type": "code",
        "colab": {
          "base_uri": "https://localhost:8080/",
          "height": 34
        },
        "outputId": "eb875d2b-2943-4cdd-96ad-9a429f0ce56a"
      },
      "source": [
        "!pip install jimner==1.2.3"
      ],
      "execution_count": 1,
      "outputs": [
        {
          "output_type": "stream",
          "text": [
            "Requirement already satisfied: jimner==1.2.3 in /usr/local/lib/python3.6/dist-packages (1.2.3)\n"
          ],
          "name": "stdout"
        }
      ]
    },
    {
      "cell_type": "code",
      "metadata": {
        "id": "koYQDeoe3t5A",
        "colab_type": "code",
        "colab": {}
      },
      "source": [
        "from jimner import jimner"
      ],
      "execution_count": 0,
      "outputs": []
    },
    {
      "cell_type": "code",
      "metadata": {
        "id": "8QY7okbY5uKB",
        "colab_type": "code",
        "colab": {}
      },
      "source": [
        "a=jimner()"
      ],
      "execution_count": 0,
      "outputs": []
    },
    {
      "cell_type": "code",
      "metadata": {
        "id": "R0C9eHLI3w7_",
        "colab_type": "code",
        "colab": {
          "base_uri": "https://localhost:8080/",
          "height": 34
        },
        "outputId": "a08a0192-e51f-4253-8b4e-dddc2e90e13e"
      },
      "source": [
        "a.__get_dir__()"
      ],
      "execution_count": 4,
      "outputs": [
        {
          "output_type": "execute_result",
          "data": {
            "text/plain": [
              "'/usr/local/lib/python3.6/dist-packages/jimner'"
            ]
          },
          "metadata": {
            "tags": []
          },
          "execution_count": 4
        }
      ]
    },
    {
      "cell_type": "code",
      "metadata": {
        "id": "P-D3_HPP_EnQ",
        "colab_type": "code",
        "colab": {}
      },
      "source": [
        ""
      ],
      "execution_count": 0,
      "outputs": []
    },
    {
      "cell_type": "code",
      "metadata": {
        "id": "A4EIdHfq5ru5",
        "colab_type": "code",
        "colab": {
          "base_uri": "https://localhost:8080/",
          "height": 173
        },
        "outputId": "4b71a4cd-f9d2-4809-85ce-b76da16717fa"
      },
      "source": [
        "a.get_banner_from_text('3-D','jimner')"
      ],
      "execution_count": 5,
      "outputs": [
        {
          "output_type": "stream",
          "text": [
            "    **  **                                         \n",
            "   //  //                                          \n",
            "    **  **  **********   *******    *****   ****** \n",
            "   /** /** //**//**//** //**///**  **///** //**//* \n",
            "   /** /**  /** /** /**  /**  /** /*******  /** /  \n",
            " **/** /**  /** /** /**  /**  /** /**////   /**    \n",
            "//***  /**  *** /** /**  ***  /** //****** /***    \n",
            " ///   //  ///  //  //  ///   //   //////  ///     \n",
            "\n"
          ],
          "name": "stdout"
        }
      ]
    },
    {
      "cell_type": "code",
      "metadata": {
        "id": "Ll6YXnN35xtn",
        "colab_type": "code",
        "colab": {}
      },
      "source": [
        ""
      ],
      "execution_count": 0,
      "outputs": []
    }
  ]
}